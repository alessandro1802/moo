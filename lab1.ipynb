{
 "cells": [
  {
   "cell_type": "markdown",
   "id": "0c83d287",
   "metadata": {},
   "source": [
    "# Multiple-objective portfolio optimization"
   ]
  },
  {
   "cell_type": "markdown",
   "id": "b1461c77",
   "metadata": {},
   "source": [
    "# INTRODUCTION"
   ]
  },
  {
   "cell_type": "markdown",
   "id": "ed746013",
   "metadata": {},
   "source": [
    "-  Your task is to solve a multiple-objective portfolio optimization problem.\n",
    "-  Use the basic Markowitz's model from 1952 (see Lecture 1)\n",
    "-  Solve = construct Pareto front approximations.\n",
    "-  The dataset is the same as for the portfolio game part 1 (bundle1.zip).\n",
    "-  The dataset consists of the historical prices of 20 assets.\n",
    "-  The bundle contains 20 files (*.txt) linked to different assets.\n",
    "-  The name of the file suggests the asset's name.\n",
    "-  The structure of every file is as follows:\n",
    "1.  The first line contains the name of the asset.\n",
    "2. The second line provides the number of data points N.\n",
    "3. The following N lines are data points with the structure: time, price.\n",
    "-  The historical timeline for all assets is time $\\in$ [0,100].\n",
    "-  Future predictions should be calculated for time = 200.\n",
    "-  Goal: \n",
    "-  Load data, make predictions, and build the model. \n",
    "-  Illustrate your predictions (can be done in the jupyter notebook)\n",
    "-  Then, implement the WSM and ECM methods (see the tutorial on quadratic programming provided below). \n",
    "-  Run your implementations for different calculation limits (e.g., the number of weight vectors for WSM). Compare the methods' efficiency in finding unique Pareto optimal solutions. Finally, illustrate generated Pareto fronts."
   ]
  },
  {
   "cell_type": "markdown",
   "id": "a97f2ed7",
   "metadata": {},
   "source": [
    "# Short tutorial on the cvxopt library for quadratic programming"
   ]
  },
  {
   "cell_type": "code",
   "execution_count": null,
   "id": "2ce0f140",
   "metadata": {},
   "outputs": [],
   "source": [
    "import numpy as np\n",
    "from cvxopt import matrix, solvers"
   ]
  },
  {
   "cell_type": "markdown",
   "id": "b5c7f50c",
   "metadata": {},
   "source": [
    "# QP Optimization Problem"
   ]
  },
  {
   "cell_type": "markdown",
   "id": "6f101f05",
   "metadata": {},
   "source": [
    "### General model:"
   ]
  },
  {
   "cell_type": "markdown",
   "id": "d539390b",
   "metadata": {},
   "source": [
    "$max$ $\\boldsymbol{cx} - \\dfrac{1}{2}\\boldsymbol{x}^T\\boldsymbol{Qx}$ <br>\n",
    "$s.t.$ <br>\n",
    "$\\boldsymbol{Gx} \\leq \\boldsymbol{h}$ <br>\n",
    "$\\boldsymbol{x} \\geq \\boldsymbol{0}$"
   ]
  },
  {
   "cell_type": "markdown",
   "id": "6cfd769b",
   "metadata": {},
   "source": [
    "### But the library uses the following form:"
   ]
  },
  {
   "cell_type": "markdown",
   "id": "74f98165",
   "metadata": {},
   "source": [
    "$min$ $\\boldsymbol{cx} + \\dfrac{1}{2}\\boldsymbol{x}^T\\boldsymbol{Qx}$ <br>\n",
    "$s.t.$ <br>\n",
    "$\\boldsymbol{Gx} \\leq \\boldsymbol{h}$ <br>\n",
    "$\\boldsymbol{Ax} = \\boldsymbol{b}$ <br>"
   ]
  },
  {
   "cell_type": "markdown",
   "id": "1ebb5d77",
   "metadata": {},
   "source": [
    "### Exmple"
   ]
  },
  {
   "cell_type": "markdown",
   "id": "4af73bb6",
   "metadata": {},
   "source": [
    "$min$ $2x^2_1+x_2^2+x_1x_2+x_1+x_2$ <br>\n",
    "$s.t.$ <br>\n",
    "$x_1 \\geq 0$<br>\n",
    "$x_2 \\geq 0$<br>\n",
    "$x_1 + x_2 = 1$<br>"
   ]
  },
  {
   "cell_type": "markdown",
   "id": "9e9eca3b",
   "metadata": {},
   "source": [
    "### Hence:"
   ]
  },
  {
   "cell_type": "code",
   "execution_count": null,
   "id": "d312e739",
   "metadata": {},
   "outputs": [],
   "source": [
    "Q = matrix([ [4.0, 1.0], [1.0, 2.0] ]) ## [4, 1] is 1st column, not row!"
   ]
  },
  {
   "cell_type": "code",
   "execution_count": null,
   "id": "51bed5af",
   "metadata": {},
   "outputs": [],
   "source": [
    "c = matrix([1.0, 1.0]) ### (1, 2) = dimensions (1 row and 2 columns)"
   ]
  },
  {
   "cell_type": "code",
   "execution_count": null,
   "id": "0cdbd334",
   "metadata": {},
   "outputs": [],
   "source": [
    "A = matrix([1.0, 1.0], (1,2)) ### (1, 2) = dimensions (1 row and 2 columns)"
   ]
  },
  {
   "cell_type": "code",
   "execution_count": null,
   "id": "699075a5",
   "metadata": {},
   "outputs": [],
   "source": [
    "b = matrix(1.0) "
   ]
  },
  {
   "cell_type": "code",
   "execution_count": null,
   "id": "9a5b19b4",
   "metadata": {},
   "outputs": [],
   "source": [
    "G = matrix([[-1.0,0.0],[0.0,-1.0]]) ### multiplied both sides by -1"
   ]
  },
  {
   "cell_type": "code",
   "execution_count": null,
   "id": "e50610ff",
   "metadata": {},
   "outputs": [],
   "source": [
    "h = matrix([0.0,0.0]) ### multiplied both sides by -1"
   ]
  },
  {
   "cell_type": "code",
   "execution_count": null,
   "id": "aa92370e",
   "metadata": {},
   "outputs": [],
   "source": [
    "solQP=solvers.qp(Q, c, G, h, A, b)"
   ]
  },
  {
   "cell_type": "code",
   "execution_count": null,
   "id": "8e136a0e",
   "metadata": {},
   "outputs": [],
   "source": [
    "print(solQP.keys())"
   ]
  },
  {
   "cell_type": "code",
   "execution_count": null,
   "id": "1954e8ba",
   "metadata": {},
   "outputs": [],
   "source": [
    "print(solQP['x'])\n",
    "print(solQP['primal objective'])"
   ]
  },
  {
   "cell_type": "markdown",
   "id": "44dc8c5d",
   "metadata": {},
   "source": [
    "# We can also solve LP problems:"
   ]
  },
  {
   "cell_type": "markdown",
   "id": "fb07630b",
   "metadata": {},
   "source": [
    "$min$ $\\boldsymbol{c}\\boldsymbol{x}$ <br>\n",
    "$s.t.$ <br>\n",
    "$\\boldsymbol{Gx} \\leq \\boldsymbol{h}$ <br>\n",
    "$\\boldsymbol{Ax} = \\boldsymbol{b}$ (optional)"
   ]
  },
  {
   "cell_type": "markdown",
   "id": "cdccac67",
   "metadata": {},
   "source": [
    "### Exmple"
   ]
  },
  {
   "cell_type": "markdown",
   "id": "0e439d1a",
   "metadata": {},
   "source": [
    "$min$ $2x_1+x_2$ <br>\n",
    "$s.t.$ <br>\n",
    "$-x_1 +x_2 \\leq 1$ <br>\n",
    "$x_1 + x_2 \\geq 2$ <br>\n",
    "$x_2 \\geq 0$<br>\n",
    "$x_1 - 2x_2 \\leq 4$"
   ]
  },
  {
   "cell_type": "code",
   "execution_count": null,
   "id": "cd985a50",
   "metadata": {},
   "outputs": [],
   "source": [
    "G = matrix([ [-1.0, -1.0, 0.0, 1.0], [1.0, -1.0, -1.0, -2.0] ])\n",
    "h = matrix([ 1.0, -2.0, 0.0, 4.0 ])\n",
    "c = matrix([ 2.0, 1.0 ])\n",
    "solLP = solvers.lp(c,G,h)  \n",
    "###!!!! OPTIONALLY A and b can be provided (equality constraints) as in solQP=solvers.qp(Q, c, G, h, A, b)"
   ]
  },
  {
   "cell_type": "code",
   "execution_count": null,
   "id": "15e6bb0b",
   "metadata": {},
   "outputs": [],
   "source": [
    "print(solLP.keys())"
   ]
  },
  {
   "cell_type": "code",
   "execution_count": null,
   "id": "debd4e7c",
   "metadata": {},
   "outputs": [],
   "source": [
    "print(solLP['x'])\n",
    "print(solLP['primal objective'])"
   ]
  },
  {
   "cell_type": "code",
   "execution_count": null,
   "id": "ba57b8a3",
   "metadata": {},
   "outputs": [],
   "source": []
  }
 ],
 "metadata": {
  "kernelspec": {
   "display_name": "Python 3 (ipykernel)",
   "language": "python",
   "name": "python3"
  },
  "language_info": {
   "codemirror_mode": {
    "name": "ipython",
    "version": 3
   },
   "file_extension": ".py",
   "mimetype": "text/x-python",
   "name": "python",
   "nbconvert_exporter": "python",
   "pygments_lexer": "ipython3",
   "version": "3.9.7"
  }
 },
 "nbformat": 4,
 "nbformat_minor": 5
}
